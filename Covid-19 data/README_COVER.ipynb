{
 "cells": [
  {
   "cell_type": "markdown",
   "metadata": {},
   "source": [
    "### **Cover from Dashboard**"
   ]
  },
  {
   "cell_type": "markdown",
   "metadata": {},
   "source": [
    "#### **Worldwide COVID-19 Cases and Deaths**"
   ]
  },
  {
   "cell_type": "markdown",
   "metadata": {},
   "source": [
    "🦠 😷 🤒 ⚰️ 💉"
   ]
  },
  {
   "cell_type": "markdown",
   "metadata": {},
   "source": [
    "*In the following table, the presentation of the dashboard created with PowerBI will be made.*"
   ]
  },
  {
   "cell_type": "markdown",
   "metadata": {},
   "source": [
    "| **Detail** | **Resume** |\n",
    "| ------------ | ----------- |\n",
    "| *Dashboard URL* | https://app.powerbi.com/view?r=eyJrIjoiMmUwM2Q5YjMtZTVlYy00NzU3LTk3OWMtNzEzMjEwYTAxNDcxIiwidCI6IjU3N2ZjMWQ4LTA5MjItNDU4ZS04N2JmLWVjNGY0NTVlYjYwMCIsImMiOjR9 |\n",
    "| *Sourse* | European Centre for Disease Prevention and Control |\n",
    "| *Sourse URL* | https://www.ecdc.europa.eu/en/publications-data/download-todays-data-geographic-distribution-covid-19-cases-worldwide |\n",
    "| *Dataset name* | COVID-19-geographic-disbtribution-worldwide-2020-12-14.xlsx |\n",
    "| *Dataset format* | Microsoft Excel file (.xlsx) |\n"
   ]
  }
 ],
 "metadata": {
  "language_info": {
   "name": "python"
  }
 },
 "nbformat": 4,
 "nbformat_minor": 2
}
